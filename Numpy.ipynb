{
 "cells": [
  {
   "cell_type": "code",
   "execution_count": 1,
   "id": "b4489698-c19b-4b70-ba36-c06465ba2f13",
   "metadata": {},
   "outputs": [],
   "source": [
    "import numpy as np"
   ]
  },
  {
   "cell_type": "code",
   "execution_count": 2,
   "id": "35131918-6065-40a0-b324-99f9fc531dbe",
   "metadata": {},
   "outputs": [
    {
     "name": "stdout",
     "output_type": "stream",
     "text": [
      "[1 2 3 4 5 6 7 8]\n"
     ]
    }
   ],
   "source": [
    "arr1D = np.array([1,2,3,4,5,6,7,8])\n",
    "print(arr1D)"
   ]
  },
  {
   "cell_type": "code",
   "execution_count": 3,
   "id": "5fab430c-ac33-4685-bcfd-85f82ea2305d",
   "metadata": {},
   "outputs": [
    {
     "name": "stdout",
     "output_type": "stream",
     "text": [
      "[[ 1  2  3  4  5  6]\n",
      " [ 8  9 10 11 12 13]]\n"
     ]
    }
   ],
   "source": [
    "arr2D = np.array([[1,2,3,4,5,6],[8,9,10,11,12,13]])\n",
    "print(arr2D)"
   ]
  },
  {
   "cell_type": "markdown",
   "id": "28dc3750-118a-43c0-b667-a13fbaddaa22",
   "metadata": {},
   "source": [
    "## Sorting"
   ]
  },
  {
   "cell_type": "code",
   "execution_count": null,
   "id": "b09980f2-1e9b-4e4c-954a-23e6ac08db49",
   "metadata": {},
   "outputs": [],
   "source": [
    "np.sort(arr)"
   ]
  },
  {
   "cell_type": "markdown",
   "id": "b069b5b9-626b-4526-b80c-027972dc4648",
   "metadata": {},
   "source": [
    "## Concatenate"
   ]
  },
  {
   "cell_type": "code",
   "execution_count": null,
   "id": "50b0061e-34e2-490e-975e-0b11d8307f2e",
   "metadata": {},
   "outputs": [],
   "source": [
    "np.concatenate((a, b))"
   ]
  },
  {
   "cell_type": "markdown",
   "id": "56196473-4bbc-4cad-8c59-fc117a265a5b",
   "metadata": {},
   "source": [
    "# Zeros Matrix"
   ]
  },
  {
   "cell_type": "code",
   "execution_count": 4,
   "id": "f11d352c-35b7-473f-99c4-b35e96c2ebd5",
   "metadata": {},
   "outputs": [
    {
     "name": "stdout",
     "output_type": "stream",
     "text": [
      "[[0. 0. 0. 0.]\n",
      " [0. 0. 0. 0.]\n",
      " [0. 0. 0. 0.]]\n"
     ]
    }
   ],
   "source": [
    "zeros = np.zeros((3, 4))  # 3x4 matrix of zeros\n",
    "print(zeros)"
   ]
  },
  {
   "cell_type": "markdown",
   "id": "86326bc8-9f08-438d-82a8-6bcd0117d294",
   "metadata": {},
   "source": [
    "# Ones Matrix "
   ]
  },
  {
   "cell_type": "code",
   "execution_count": 5,
   "id": "456731ff-a436-4c95-b8d5-46ade6aed55a",
   "metadata": {},
   "outputs": [
    {
     "name": "stdout",
     "output_type": "stream",
     "text": [
      "[[1. 1. 1.]\n",
      " [1. 1. 1.]]\n"
     ]
    }
   ],
   "source": [
    "ones = np.ones((2, 3))\n",
    "print(ones)"
   ]
  },
  {
   "cell_type": "markdown",
   "id": "08e3b9ea-0ccc-4e07-b12f-9202ad8fc456",
   "metadata": {},
   "source": [
    "# Empty (uninitialized - faster but random values)"
   ]
  },
  {
   "cell_type": "code",
   "execution_count": 6,
   "id": "5150f86d-52f8-4c26-926f-b24b442647db",
   "metadata": {},
   "outputs": [
    {
     "name": "stdout",
     "output_type": "stream",
     "text": [
      "[[0. 0.]\n",
      " [0. 0.]]\n"
     ]
    }
   ],
   "source": [
    "empty = np.empty((2, 2))\n",
    "print(empty)"
   ]
  },
  {
   "cell_type": "markdown",
   "id": "ea4e921a-1808-4126-8940-217538b9a0b6",
   "metadata": {},
   "source": [
    "# Identity matrix"
   ]
  },
  {
   "cell_type": "code",
   "execution_count": 7,
   "id": "1ae6c679-bd5e-4973-b4d4-f6b18822f774",
   "metadata": {},
   "outputs": [
    {
     "name": "stdout",
     "output_type": "stream",
     "text": [
      "[[1. 0. 0. 0.]\n",
      " [0. 1. 0. 0.]\n",
      " [0. 0. 1. 0.]\n",
      " [0. 0. 0. 1.]]\n"
     ]
    }
   ],
   "source": [
    "identity = np.eye(4)\n",
    "print(identity)"
   ]
  },
  {
   "cell_type": "markdown",
   "id": "ed0b9150-9c90-481f-882d-3b96669b1d55",
   "metadata": {},
   "source": [
    "# Arange"
   ]
  },
  {
   "cell_type": "code",
   "execution_count": 8,
   "id": "28ceed0c-3705-4002-bc46-f65f0f1c3572",
   "metadata": {},
   "outputs": [
    {
     "name": "stdout",
     "output_type": "stream",
     "text": [
      "[0 2 4 6 8]\n"
     ]
    }
   ],
   "source": [
    "arrArrange = np.arange(0, 10, 2)\n",
    "print(arrArrange)"
   ]
  },
  {
   "cell_type": "markdown",
   "id": "3b62aae6-3aa5-4724-9b27-afbdfb7e887c",
   "metadata": {},
   "source": [
    "# Linspace (evenly spaced numbers)"
   ]
  },
  {
   "cell_type": "code",
   "execution_count": 9,
   "id": "c968d6c0-5821-4114-b1ba-8f06e1ef12d4",
   "metadata": {},
   "outputs": [
    {
     "name": "stdout",
     "output_type": "stream",
     "text": [
      "[0.   0.25 0.5  0.75 1.  ]\n"
     ]
    }
   ],
   "source": [
    "arrLinespace = np.linspace(0, 1, 5)\n",
    "print(arrLinespace)"
   ]
  },
  {
   "cell_type": "markdown",
   "id": "740c85d0-918b-4f4c-a47b-1be4c66bab93",
   "metadata": {},
   "source": [
    "# Random arrays (VERY important for ML)"
   ]
  },
  {
   "cell_type": "code",
   "execution_count": 10,
   "id": "2441f1ba-9f63-4bd6-9c7d-13cb98c39d0a",
   "metadata": {},
   "outputs": [],
   "source": [
    "random_arr = np.random.random((3, 3))\n",
    "random_int = np.random.randint(0, 10, (3, 3))\n",
    "normal = np.random.randn(3, 3)"
   ]
  },
  {
   "cell_type": "code",
   "execution_count": 11,
   "id": "994a7f52-b7a5-4f22-9a1d-d327a898dc50",
   "metadata": {},
   "outputs": [
    {
     "name": "stdout",
     "output_type": "stream",
     "text": [
      "[[0.49855506 0.41938113 0.77855582]\n",
      " [0.41850723 0.79584114 0.16205667]\n",
      " [0.82497711 0.40675264 0.53651174]]\n",
      "__________________________________\n",
      "[[6 1 4]\n",
      " [3 3 9]\n",
      " [8 3 7]]\n",
      "__________________________________\n",
      "[[ 1.12708026  1.23678379  0.52658929]\n",
      " [ 0.61628888 -0.66802103  0.05305558]\n",
      " [ 0.67974429  0.48465752  2.51812822]]\n",
      "__________________________________\n"
     ]
    }
   ],
   "source": [
    "print(random_arr)\n",
    "print(\"__________________________________\")\n",
    "\n",
    "print(random_int)\n",
    "print(\"__________________________________\")\n",
    "\n",
    "print(normal)\n",
    "print(\"__________________________________\")"
   ]
  },
  {
   "cell_type": "markdown",
   "id": "f4a406c7-2d49-41ce-b2b2-7bf5e88d1bd9",
   "metadata": {},
   "source": [
    "# Array Function"
   ]
  },
  {
   "cell_type": "code",
   "execution_count": 12,
   "id": "de2ae140-bf3d-414e-b291-70d7f674357d",
   "metadata": {},
   "outputs": [
    {
     "name": "stdout",
     "output_type": "stream",
     "text": [
      "(2, 4)\n",
      "__________________________________\n",
      "2\n",
      "__________________________________\n",
      "8\n",
      "__________________________________\n",
      "int64\n",
      "__________________________________\n",
      "8\n"
     ]
    }
   ],
   "source": [
    "arr = np.array([[1, 2, 3, 4], [5, 6, 7, 8]])\n",
    "\n",
    "print(arr.shape)    # (2, 4) - dimensions\n",
    "print(\"__________________________________\")\n",
    "print(arr.ndim)     # 2 - number of dimensions\n",
    "print(\"__________________________________\")\n",
    "print(arr.size)     # 8 - total number of elements\n",
    "print(\"__________________________________\")\n",
    "print(arr.dtype)    # dtype('int64') - data type\n",
    "print(\"__________________________________\")\n",
    "print(arr.itemsize) # 8 - size of each element in bytes"
   ]
  },
  {
   "cell_type": "markdown",
   "id": "382a1eb8-d3d1-46ba-bc30-b37ef78f6a35",
   "metadata": {},
   "source": [
    "# Array Slicing"
   ]
  },
  {
   "cell_type": "code",
   "execution_count": 13,
   "id": "3690c8e6-f0d7-4247-9697-6f7638453e38",
   "metadata": {},
   "outputs": [
    {
     "name": "stdout",
     "output_type": "stream",
     "text": [
      "10\n",
      "-----------------------------\n",
      "50\n",
      "-----------------------------\n",
      "[20 30 40]\n",
      "-----------------------------\n",
      "[10 20 30]\n",
      "-----------------------------\n",
      "[10 30 50]\n",
      "-----------------------------\n",
      "2D\n",
      "***********\n",
      "2\n",
      "-----------------------------\n",
      "[4 5 6]\n",
      "-----------------------------\n",
      "[2 5 8]\n",
      "-----------------------------\n",
      "[[2 3]\n",
      " [5 6]]\n",
      "-----------------------------\n"
     ]
    }
   ],
   "source": [
    "arr = np.array([10, 20, 30, 40, 50])\n",
    "\n",
    "\n",
    "print(arr[0])      # 10\n",
    "print(\"-----------------------------\")\n",
    "print(arr[-1])     # 50 (last element)\n",
    "print(\"-----------------------------\")\n",
    "\n",
    "# Slicing\n",
    "print(arr[1:4])    # [20 30 40]\n",
    "print(\"-----------------------------\")\n",
    "print(arr[:3])     # [10 20 30]\n",
    "print(\"-----------------------------\")\n",
    "print(arr[::2])    # [10 30 50] (every 2nd element)\n",
    "print(\"-----------------------------\")\n",
    "\n",
    "\n",
    "print(\"2D\")\n",
    "print(\"***********\")\n",
    "# 2D arrays\n",
    "arr2d = np.array([[1, 2, 3], [4, 5, 6], [7, 8, 9]])\n",
    "print(arr2d[0, 1])      # 2 (row 0, col 1)\n",
    "print(\"-----------------------------\")\n",
    "print(arr2d[1])         # [4 5 6] (entire row)\n",
    "print(\"-----------------------------\")\n",
    "print(arr2d[:, 1])      # [2 5 8] (entire column)\n",
    "print(\"-----------------------------\")\n",
    "print(arr2d[0:2, 1:3])  # [[2 3] [5 6]] (submatrix)\n",
    "print(\"-----------------------------\")"
   ]
  },
  {
   "cell_type": "markdown",
   "id": "8fb38a01-7f4d-43ac-95fe-6bd52f52e76a",
   "metadata": {},
   "source": [
    "# Boolean Indexing (Critical for ML)"
   ]
  },
  {
   "cell_type": "code",
   "execution_count": 14,
   "id": "b4e5a223-7508-42c8-a498-adf8dc2f3b22",
   "metadata": {},
   "outputs": [
    {
     "name": "stdout",
     "output_type": "stream",
     "text": [
      "[False False False  True  True  True]\n",
      "-----------------------------\n",
      "[4 5 6]\n",
      "-----------------------------\n",
      "[4 5 6]\n",
      "-----------------------------\n",
      "[3 4]\n",
      "-----------------------------\n"
     ]
    }
   ],
   "source": [
    "arr = np.array([1, 2, 3, 4, 5, 6])\n",
    "\n",
    "# Boolean mask\n",
    "mask = arr > 3\n",
    "print(mask)         # [False False False True True True]\n",
    "print(\"-----------------------------\")\n",
    "print(arr[mask])    # [4 5 6]\n",
    "print(\"-----------------------------\")\n",
    "\n",
    "# Direct filtering\n",
    "print(arr[arr > 3]) # [4 5 6]\n",
    "print(\"-----------------------------\")\n",
    "\n",
    "# Multiple conditions\n",
    "print(arr[(arr > 2) & (arr < 5)])  # [3 4]\n",
    "print(\"-----------------------------\")\n"
   ]
  },
  {
   "cell_type": "markdown",
   "id": "c3243478-c7e8-43e0-9642-b3f64f218b36",
   "metadata": {},
   "source": [
    "# Reshaping Arrays"
   ]
  },
  {
   "cell_type": "code",
   "execution_count": 15,
   "id": "78517023-0669-4f37-8173-de5942bf10ec",
   "metadata": {},
   "outputs": [],
   "source": [
    "arr = np.arange(12)  # [0 1 2 3 4 5 6 7 8 9 10 11]\n",
    "\n",
    "# Reshape\n",
    "reshaped = arr.reshape(3, 4)  # 3x4 matrix\n",
    "# [[ 0  1  2  3]\n",
    "#  [ 4  5  6  7]\n",
    "#  [ 8  9 10 11]]\n",
    "\n",
    "# Flatten back\n",
    "flattened = reshaped.flatten()  # or .ravel()\n",
    "\n",
    "\n",
    "# Transpose\n",
    "transposed = reshaped.T  # 4x3 matrix\n",
    "\n",
    "# Add new axis (important for ML)\n",
    "arr = np.array([1, 2, 3])\n",
    "arr_col = arr[:, np.newaxis]  # Column vector (3, 1)\n",
    "arr_row = arr[np.newaxis, :]  # Row vector (1, 3)"
   ]
  },
  {
   "cell_type": "markdown",
   "id": "245d2132-248b-4555-9d75-ae6ab3d3148a",
   "metadata": {},
   "source": [
    "## flatten() vs ravel()\n",
    "1 - Flatten()\n",
    "\n",
    "-> Any changes to the flattened result won’t affect the original array.\n",
    "-> mostly use to flattern dimensional Array into flatten arrayt in a diffrent variable.\n",
    "\n",
    "2 - ravel()\n",
    "\n",
    "-> it changes the original Array."
   ]
  },
  {
   "cell_type": "markdown",
   "id": "d364197c-0086-4282-bf75-cd60560c38e4",
   "metadata": {},
   "source": [
    "# Increasing Dimensions"
   ]
  },
  {
   "cell_type": "code",
   "execution_count": null,
   "id": "133f68b5-84bc-4137-a337-d1dfa1fb2454",
   "metadata": {},
   "outputs": [],
   "source": [
    "a = np.array([1, 2, 3, 4, 5, 6])"
   ]
  },
  {
   "cell_type": "markdown",
   "id": "28a45266-fc00-41b6-b577-60b6210fd340",
   "metadata": {},
   "source": [
    "# Maths Function"
   ]
  },
  {
   "cell_type": "code",
   "execution_count": 16,
   "id": "a5b44844-ba7d-4ba8-9626-5ba2bdb724b4",
   "metadata": {},
   "outputs": [],
   "source": [
    "arr1 = np.array([1, 2, 3, 4, 5])\n",
    "arr2 = np.array([10, 20, 30, 40, 50])\n",
    "\n",
    "# A 2D array for axis examples\n",
    "matrix = np.array([[1, 2, 3], \n",
    "                   [4, 5, 6]])"
   ]
  },
  {
   "cell_type": "code",
   "execution_count": 17,
   "id": "0a3bae11-ecd7-459e-a2de-998a76068ce9",
   "metadata": {},
   "outputs": [
    {
     "name": "stdout",
     "output_type": "stream",
     "text": [
      "Addition: [11 22 33 44 55]\n",
      "Multiplication: [10 20 30 40 50]\n",
      "Square Root: [1.         1.41421356 1.73205081 2.         2.23606798]\n",
      "Power: [ 1  4  9 16 25]\n"
     ]
    }
   ],
   "source": [
    "# Element-wise operations are simple\n",
    "print(\"Addition:\", np.add(arr1, arr2))\n",
    "print(\"Multiplication:\", np.multiply(arr1, 10))\n",
    "print(\"Square Root:\", np.sqrt(arr1))\n",
    "print(\"Power:\", np.power(arr1, 2))"
   ]
  },
  {
   "cell_type": "markdown",
   "id": "fe16375e-df99-41b7-bbf9-4efe15ddb7b3",
   "metadata": {},
   "source": [
    "### Aggregation Functions"
   ]
  },
  {
   "cell_type": "markdown",
   "id": "4bef13ac-e9db-42f2-ab06-aebaeb0a2b87",
   "metadata": {},
   "source": [
    "### the function formulate/ works on all element in the array"
   ]
  },
  {
   "cell_type": "code",
   "execution_count": 18,
   "id": "91fc4cb6-534c-4020-9519-3146268c89bd",
   "metadata": {},
   "outputs": [
    {
     "name": "stdout",
     "output_type": "stream",
     "text": [
      "Sum (all elements): 21\n",
      "Mean (all elements): 3.5\n",
      "Max value: 6\n",
      "Index of max value: 5\n"
     ]
    }
   ],
   "source": [
    "print(\"Sum (all elements):\", np.sum(matrix))\n",
    "print(\"Mean (all elements):\", np.mean(matrix))\n",
    "print(\"Max value:\", np.max(matrix))\n",
    "print(\"Index of max value:\", np.argmax(matrix))"
   ]
  },
  {
   "cell_type": "code",
   "execution_count": 19,
   "id": "c246a485-83b5-4d50-9185-bb8cd35f854e",
   "metadata": {},
   "outputs": [
    {
     "name": "stdout",
     "output_type": "stream",
     "text": [
      "Sum of each column (axis=0): [5 7 9]\n",
      "Mean of each row (axis=1): [2. 5.]\n"
     ]
    }
   ],
   "source": [
    "# Using the axis parameter\n",
    "\n",
    "print(\"Sum of each column (axis=0):\", np.sum(matrix, axis=0))\n",
    "print(\"Mean of each row (axis=1):\", np.mean(matrix, axis=1))"
   ]
  },
  {
   "cell_type": "markdown",
   "id": "a671c770-ca53-443a-827d-d85a2e75b858",
   "metadata": {},
   "source": [
    "# Array Operations"
   ]
  },
  {
   "cell_type": "code",
   "execution_count": null,
   "id": "366d7248-892b-4c76-8596-12e1f6350fec",
   "metadata": {},
   "outputs": [],
   "source": [
    "# Element-wise operations (NO LOOPS NEEDED!)\n",
    "print(arr + 5)      # [6 7 8 9]\n",
    "print(arr * 2)      # [2 4 6 8]\n",
    "print(arr ** 2)     # [1 4 9 16]\n",
    "print(1 / arr)      # [1.   0.5  0.33 0.25]\n",
    "\n",
    "# Array with array\n",
    "arr1 = np.array([1, 2, 3])\n",
    "arr2 = np.array([4, 5, 6])\n",
    "print(arr1 + arr2)  # [5 7 9]\n",
    "print(arr1 * arr2)  # [4 10 18] - element-wise multiplication"
   ]
  }
 ],
 "metadata": {
  "kernelspec": {
   "display_name": "Python 3 (ipykernel)",
   "language": "python",
   "name": "python3"
  },
  "language_info": {
   "codemirror_mode": {
    "name": "ipython",
    "version": 3
   },
   "file_extension": ".py",
   "mimetype": "text/x-python",
   "name": "python",
   "nbconvert_exporter": "python",
   "pygments_lexer": "ipython3",
   "version": "3.9.6"
  }
 },
 "nbformat": 4,
 "nbformat_minor": 5
}
